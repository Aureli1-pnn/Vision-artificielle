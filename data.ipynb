{
 "cells": [
  {
   "cell_type": "code",
   "execution_count": 16,
   "metadata": {},
   "outputs": [],
   "source": [
    "import os\n",
    "import shutil\n",
    "\n",
    "DOSSIER_DATA  = 'DATA/'\n",
    "DOSSIER_TRAIN = 'ROBOFLOW/TRAIN/'\n",
    "DOSSIER_TEST  = 'ROBOFLOW/TEST/'\n",
    "DOSSIER_VALID = 'ROBOFLOW/VALID/'\n",
    "\n",
    "if os.path.exists(DOSSIER_DATA): shutil.rmtree(DOSSIER_DATA)\n",
    "os.makedirs(DOSSIER_DATA)\n",
    "os.makedirs(DOSSIER_DATA + 'IMAGES/')\n",
    "os.makedirs(DOSSIER_DATA + 'LABELS/')"
   ]
  },
  {
   "cell_type": "code",
   "execution_count": 17,
   "metadata": {},
   "outputs": [],
   "source": [
    "images_path = []\n",
    "\n",
    "files_test  = os.listdir(DOSSIER_TEST  + 'images/')\n",
    "files_valid = os.listdir(DOSSIER_VALID + 'images/')\n",
    "files_train = os.listdir(DOSSIER_TRAIN + 'images/') \n",
    "\n",
    "def get_file_information(path_name): \n",
    "    file_info = os.path.basename(path_name).split('.')\n",
    "    file_name = ''\n",
    "    for elem in file_info[:-1]:\n",
    "        file_name += str(elem)\n",
    "         \n",
    "    return file_name, file_info[-1]\n",
    "\n",
    "for file in files_test:\n",
    "    file_name, _ = get_file_information(file)\n",
    "    images_path.append(DOSSIER_TEST + 'images/' + file)\n",
    "\n",
    "for file in files_valid:\n",
    "    file_name, _ = get_file_information(file)\n",
    "    images_path.append(DOSSIER_VALID + 'images/' + file)\n",
    "\n",
    "for file in files_train:\n",
    "    file_name, _ = get_file_information(file)\n",
    "    images_path.append(DOSSIER_TRAIN + 'images/' + file)"
   ]
  },
  {
   "cell_type": "code",
   "execution_count": 18,
   "metadata": {},
   "outputs": [],
   "source": [
    "index = 1\n",
    "for img_path in images_path:\n",
    "    _, file_extension = get_file_information(img_path)\n",
    "    label_path = img_path.replace('images/', 'labels/').replace('.' + file_extension, '.txt')\n",
    "    shutil.copy(img_path,   DOSSIER_DATA + 'IMAGES/' + str(index) + '.' + file_extension)\n",
    "    shutil.copy(label_path, DOSSIER_DATA + 'LABELS/' + str(index) + '.txt')\n",
    "    index += 1"
   ]
  },
  {
   "cell_type": "code",
   "execution_count": 15,
   "metadata": {},
   "outputs": [
    {
     "data": {
      "text/plain": [
       "[1, 2, 3]"
      ]
     },
     "execution_count": 15,
     "metadata": {},
     "output_type": "execute_result"
    }
   ],
   "source": [
    "test = [1, 2, 3, 4]\n",
    "z = test[:-1]\n",
    "z"
   ]
  }
 ],
 "metadata": {
  "kernelspec": {
   "display_name": "Python 3",
   "language": "python",
   "name": "python3"
  },
  "language_info": {
   "codemirror_mode": {
    "name": "ipython",
    "version": 3
   },
   "file_extension": ".py",
   "mimetype": "text/x-python",
   "name": "python",
   "nbconvert_exporter": "python",
   "pygments_lexer": "ipython3",
   "version": "3.9.18"
  }
 },
 "nbformat": 4,
 "nbformat_minor": 2
}
